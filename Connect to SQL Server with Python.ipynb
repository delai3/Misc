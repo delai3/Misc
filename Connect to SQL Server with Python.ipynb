{
 "cells": [
  {
   "cell_type": "code",
   "execution_count": 2,
   "id": "14a7ea12",
   "metadata": {},
   "outputs": [
    {
     "name": "stdout",
     "output_type": "stream",
     "text": [
      "Requirement already satisfied: pyodbc in c:\\users\\desm1\\anaconda3\\lib\\site-packages (4.0.34)\n"
     ]
    }
   ],
   "source": [
    "!pip install pyodbc"
   ]
  },
  {
   "cell_type": "code",
   "execution_count": 5,
   "id": "2f93faea",
   "metadata": {},
   "outputs": [],
   "source": [
    "import pyodbc\n",
    "import pandas as pd"
   ]
  },
  {
   "cell_type": "code",
   "execution_count": 58,
   "id": "144e6afb",
   "metadata": {},
   "outputs": [],
   "source": [
    "uid = 'etl'\n",
    "pwd = 'demopass'\n",
    "driver = \"{SQL Server Native Client 11.0}\"\n",
    "server = \"LAPTOP-L5QL3LC7\\SQLEXPRESS\"\n",
    "database = \"AdventureWorksDW2019;\"\n",
    "\n",
    "\n",
    "conn = pyodbc.connect(Trusted_connection = \"Yes\", Driver = \"{SQL Server Native Client 11.0}\", SERVER= \"LAPTOP-L5QL3LC7\\SQLEXPRESS\", DATABASE= \"AdventureWorks2019\", UID= uid, PWD= pwd)\n",
    "\n"
   ]
  },
  {
   "cell_type": "code",
   "execution_count": null,
   "id": "f8c79f02",
   "metadata": {},
   "outputs": [],
   "source": []
  },
  {
   "cell_type": "code",
   "execution_count": 61,
   "id": "199395a2",
   "metadata": {},
   "outputs": [],
   "source": [
    "sql = \"SELECT * FROM [Production].[ProductCategory]\""
   ]
  },
  {
   "cell_type": "code",
   "execution_count": 62,
   "id": "41cca268",
   "metadata": {},
   "outputs": [
    {
     "data": {
      "text/html": [
       "<div>\n",
       "<style scoped>\n",
       "    .dataframe tbody tr th:only-of-type {\n",
       "        vertical-align: middle;\n",
       "    }\n",
       "\n",
       "    .dataframe tbody tr th {\n",
       "        vertical-align: top;\n",
       "    }\n",
       "\n",
       "    .dataframe thead th {\n",
       "        text-align: right;\n",
       "    }\n",
       "</style>\n",
       "<table border=\"1\" class=\"dataframe\">\n",
       "  <thead>\n",
       "    <tr style=\"text-align: right;\">\n",
       "      <th></th>\n",
       "      <th>ProductCategoryID</th>\n",
       "      <th>Name</th>\n",
       "      <th>rowguid</th>\n",
       "      <th>ModifiedDate</th>\n",
       "    </tr>\n",
       "  </thead>\n",
       "  <tbody>\n",
       "    <tr>\n",
       "      <th>0</th>\n",
       "      <td>1</td>\n",
       "      <td>Bikes</td>\n",
       "      <td>CFBDA25C-DF71-47A7-B81B-64EE161AA37C</td>\n",
       "      <td>2008-04-30</td>\n",
       "    </tr>\n",
       "    <tr>\n",
       "      <th>1</th>\n",
       "      <td>2</td>\n",
       "      <td>Components</td>\n",
       "      <td>C657828D-D808-4ABA-91A3-AF2CE02300E9</td>\n",
       "      <td>2008-04-30</td>\n",
       "    </tr>\n",
       "    <tr>\n",
       "      <th>2</th>\n",
       "      <td>3</td>\n",
       "      <td>Clothing</td>\n",
       "      <td>10A7C342-CA82-48D4-8A38-46A2EB089B74</td>\n",
       "      <td>2008-04-30</td>\n",
       "    </tr>\n",
       "    <tr>\n",
       "      <th>3</th>\n",
       "      <td>4</td>\n",
       "      <td>Accessories</td>\n",
       "      <td>2BE3BE36-D9A2-4EEE-B593-ED895D97C2A6</td>\n",
       "      <td>2008-04-30</td>\n",
       "    </tr>\n",
       "  </tbody>\n",
       "</table>\n",
       "</div>"
      ],
      "text/plain": [
       "   ProductCategoryID         Name                               rowguid  \\\n",
       "0                  1        Bikes  CFBDA25C-DF71-47A7-B81B-64EE161AA37C   \n",
       "1                  2   Components  C657828D-D808-4ABA-91A3-AF2CE02300E9   \n",
       "2                  3     Clothing  10A7C342-CA82-48D4-8A38-46A2EB089B74   \n",
       "3                  4  Accessories  2BE3BE36-D9A2-4EEE-B593-ED895D97C2A6   \n",
       "\n",
       "  ModifiedDate  \n",
       "0   2008-04-30  \n",
       "1   2008-04-30  \n",
       "2   2008-04-30  \n",
       "3   2008-04-30  "
      ]
     },
     "execution_count": 62,
     "metadata": {},
     "output_type": "execute_result"
    }
   ],
   "source": [
    "\n",
    "\n",
    "df = pd.read_sql_query(sql, conn)\n",
    "df.head()\n",
    "\n"
   ]
  }
 ],
 "metadata": {
  "kernelspec": {
   "display_name": "Python 3 (ipykernel)",
   "language": "python",
   "name": "python3"
  },
  "language_info": {
   "codemirror_mode": {
    "name": "ipython",
    "version": 3
   },
   "file_extension": ".py",
   "mimetype": "text/x-python",
   "name": "python",
   "nbconvert_exporter": "python",
   "pygments_lexer": "ipython3",
   "version": "3.9.13"
  }
 },
 "nbformat": 4,
 "nbformat_minor": 5
}
